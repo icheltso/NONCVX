{
 "cells": [
  {
   "cell_type": "code",
   "execution_count": 1,
   "id": "bd3c0a67",
   "metadata": {},
   "outputs": [],
   "source": [
    "import numpy as np\n",
    "import matplotlib.pyplot as plt\n",
    "from scipy import ndimage\n",
    "from scipy.fft import fft, ifft\n",
    "from scipy.optimize import line_search\n",
    "from tensorflow.python import tf2\n",
    "from keras.datasets import mnist\n",
    "from scipy.linalg import convolution_matrix\n",
    "from PIL import Image, ImageOps\n",
    "import time\n",
    "import colorsys"
   ]
  },
  {
   "cell_type": "code",
   "execution_count": 2,
   "id": "eb789c4c",
   "metadata": {},
   "outputs": [
    {
     "data": {
      "image/png": "[encoded data removed]",
      "text/plain": [
       "<Figure size 432x288 with 1 Axes>"
      ]
     },
     "metadata": {
      "needs_background": "light"
     },
     "output_type": "display_data"
    }
   ],
   "source": [
    "#Initializations\n",
    "features = 200;\n",
    "samples = 1000;\n",
    "A = np.random.randn(features,samples)\n",
    "#Try different matrices\n",
    "#y = np.random.randn(features)\n",
    "#Initialize some random sparse solution\n",
    "x0 = np.zeros((samples,1))\n",
    "p = np.random.permutation(samples)\n",
    "x0[p[:10]] = np.random.randn(10,1)\n",
    "x0 = np.reshape(x0,-1)\n",
    "y = A@x0\n",
    "lam = .9 * np.max( np.abs(A.T @ y))\n",
    "plt.stem(x0)\n",
    "plt.show()"
   ]
  },
  {
   "cell_type": "code",
   "execution_count": 53,
   "id": "280065c9",
   "metadata": {},
   "outputs": [
    {
     "data": {
      "text/plain": [
       "10000"
      ]
     },
     "execution_count": 53,
     "metadata": {},
     "output_type": "execute_result"
    }
   ],
   "source": [
    "b"
   ]
  },
  {
   "cell_type": "code",
   "execution_count": 3,
   "id": "c1d62a48",
   "metadata": {},
   "outputs": [],
   "source": [
    "def Hessianinv_uu(A,v,it):\n",
    "    n = np.size(v)\n",
    "    Dv = np.diag(v)\n",
    "    Hyy = (np.eye(samples) + (1/lam)*(Dv @ ((A.T @ A) @ Dv)))\n",
    "    Lg = np.linalg.norm(Hyy,2)\n",
    "    Hyy = Hyy/Lg\n",
    "    Hinv = np.eye(samples)\n",
    "    HyyPow = np.eye(samples)-Hyy\n",
    "    for i in range(it):\n",
    "        Hinv = Hinv + HyyPow\n",
    "        HyyPow = HyyPow @ (np.eye(samples) - Hyy)\n",
    "    return (Hinv/(Lg))"
   ]
  },
  {
   "cell_type": "code",
   "execution_count": 43,
   "id": "168b008a",
   "metadata": {},
   "outputs": [
    {
     "name": "stdout",
     "output_type": "stream",
     "text": [
      "Error is  3.831013195603295e-15\n",
      "Relative error is  3.831013195603294e-15\n"
     ]
    }
   ],
   "source": []
  },
  {
   "cell_type": "code",
   "execution_count": 51,
   "id": "8ee2d2aa",
   "metadata": {},
   "outputs": [
    {
     "data": {
      "text/plain": [
       "375"
      ]
     },
     "execution_count": 51,
     "metadata": {},
     "output_type": "execute_result"
    }
   ],
   "source": [
    "p = np.random.randint(1,999)\n",
    "p"
   ]
  },
  {
   "cell_type": "code",
   "execution_count": 14,
   "id": "4a0c1fb7",
   "metadata": {},
   "outputs": [],
   "source": [
    "def Hessianinv_uu_stc(A,v,b):\n",
    "    m = np.size(A,0)\n",
    "    n = np.size(A,1)\n",
    "    p = np.random.randint(1,b-1)\n",
    "    Dv = np.diag(v)\n",
    "    Hyy = np.eye(n) + (1/lam)*(Dv @ ((A.T @ A) @ Dv))\n",
    "    Lg = np.linalg.norm(Hyy,2)\n",
    "    #Hlist = np.zeros((m,n,p))\n",
    "    #for i in range(p):\n",
    "    #    Ast = np.random.randn(features,samples)\n",
    "    #    Hlist[:,:,i] = np.eye(samples) + (1/lam)*(Dv @ ((Ast.T @ Ast) @ Dv))\n",
    "    \n",
    "    Hinv = b*np.eye(n)/Lg\n",
    "    if (p == 1):\n",
    "        return Hinv\n",
    "    \n",
    "    \n",
    "    for i in range(p):\n",
    "        Ast = np.random.randn(m,n)\n",
    "        #Ast = np.random.randn(n)\n",
    "        Hst = np.eye(n) + (1/lam)*(Dv @ ((Ast.T @ Ast) @ Dv))\n",
    "        #Hst = np.eye(n) + (1/lam)*(Dv @ ((np.outer(Ast,Ast)) @ Dv))\n",
    "        Hinv = Hinv @ (np.eye(n) - (1/Lg)*Hst)\n",
    "            \n",
    "    return Hinv"
   ]
  },
  {
   "cell_type": "code",
   "execution_count": 13,
   "id": "2621fc5e",
   "metadata": {},
   "outputs": [
    {
     "name": "stdout",
     "output_type": "stream",
     "text": [
      "Comparing normal inverse calculation and formula:\n",
      "Error is  3.2218664708719586e-15\n",
      "Relative error is  3.2218664708719543e-15\n",
      "Comparing normal inverse calculation and stochastic:\n",
      "Error is  1.000000000000002\n",
      "Relative error is  3.379171595166783e+122\n"
     ]
    }
   ],
   "source": [
    "iters = 100\n",
    "b = 1000\n",
    "u = np.random.rand(samples)\n",
    "v = np.random.rand(samples)\n",
    "Hinv = np.linalg.inv(np.eye(samples) + (1/lam)*(np.diag(v) @ ((A.T @ A) @ np.diag(v))))\n",
    "Hinv_calc = Hessianinv_uu(A,v,iters)\n",
    "Hinv_calc_st = Hessianinv_uu_stc(A,v,b)\n",
    "err = np.linalg.norm(Hinv-Hinv_calc,2)\n",
    "rel_err = err / np.linalg.norm(Hinv_calc,2)\n",
    "err_st = np.linalg.norm(Hinv-Hinv_calc_st,2)\n",
    "rel_err_st = err_st / np.linalg.norm(Hinv_calc_st,2)\n",
    "print('Comparing normal inverse calculation and formula:')\n",
    "print('Error is ', err)\n",
    "print('Relative error is ', rel_err)\n",
    "print('Comparing normal inverse calculation and stochastic:')\n",
    "print('Error is ', err_st)\n",
    "print('Relative error is ', rel_err_st)"
   ]
  },
  {
   "cell_type": "code",
   "execution_count": 54,
   "id": "b4e55ffe",
   "metadata": {},
   "outputs": [
    {
     "data": {
      "text/plain": [
       "5.63e-322"
      ]
     },
     "execution_count": 54,
     "metadata": {},
     "output_type": "execute_result"
    }
   ],
   "source": [
    "np.linalg.norm(Hinv_calc_st,2)"
   ]
  },
  {
   "cell_type": "code",
   "execution_count": 6,
   "id": "fe468571",
   "metadata": {},
   "outputs": [],
   "source": [
    "Ast = np.random.randn(5)"
   ]
  },
  {
   "cell_type": "code",
   "execution_count": 11,
   "id": "e908665f",
   "metadata": {},
   "outputs": [
    {
     "data": {
      "text/plain": [
       "array([[ 1.92302881, -2.24091976, -3.08726181, -1.2418647 , -0.90348586],\n",
       "       [-2.24091976,  2.61136044,  3.59760912,  1.44715416,  1.05283878],\n",
       "       [-3.08726181,  3.59760912,  4.95634044,  1.99370984,  1.45047092],\n",
       "       [-1.2418647 ,  1.44715416,  1.99370984,  0.80197859,  0.58345834],\n",
       "       [-0.90348586,  1.05283878,  1.45047092,  0.58345834,  0.4244797 ]])"
      ]
     },
     "execution_count": 11,
     "metadata": {},
     "output_type": "execute_result"
    }
   ],
   "source": [
    "np.outer(Ast,Ast)"
   ]
  },
  {
   "cell_type": "code",
   "execution_count": null,
   "id": "999edd7b",
   "metadata": {},
   "outputs": [],
   "source": []
  }
 ],
 "metadata": {
  "kernelspec": {
   "display_name": "Python 3",
   "language": "python",
   "name": "python3"
  },
  "language_info": {
   "codemirror_mode": {
    "name": "ipython",
    "version": 3
   },
   "file_extension": ".py",
   "mimetype": "text/x-python",
   "name": "python",
   "nbconvert_exporter": "python",
   "pygments_lexer": "ipython3",
   "version": "3.8.8"
  }
 },
 "nbformat": 4,
 "nbformat_minor": 5
}
