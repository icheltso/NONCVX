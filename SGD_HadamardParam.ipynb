{
 "cells": [
  {
   "cell_type": "code",
   "execution_count": 1,
   "metadata": {},
   "outputs": [
    {
     "data": {
      "text/plain": [
       "<StemContainer object of 3 artists>"
      ]
     },
     "execution_count": 1,
     "metadata": {},
     "output_type": "execute_result"
    },
    {
     "data": {
      "image/png": "[encoded data removed]",
      "text/plain": [
       "<Figure size 432x288 with 1 Axes>"
      ]
     },
     "metadata": {
      "needs_background": "light"
     },
     "output_type": "display_data"
    }
   ],
   "source": [
    "import numpy as np\n",
    "import matplotlib.pyplot as plt\n",
    "\n",
    "# setup\n",
    "m = 100;\n",
    "n = 200;\n",
    "A = np.random.randn(m,n)\n",
    "x0 = np.zeros((n,1))\n",
    "\n",
    "p = np.random.permutation(n)\n",
    "x0[p[:3]] = np.random.randn(3,1)\n",
    "y = np.ravel(A@x0)\n",
    "\n",
    "lam = np.max(np.abs(A.T@y))/10\n",
    "\n",
    "myobj = lambda beta: lam*np.sum(np.abs(beta))+1/2*np.linalg.norm(A@beta-y)**2\n",
    "\n",
    "\n",
    "plt.stem(x0)"
   ]
  },
  {
   "cell_type": "code",
   "execution_count": 2,
   "metadata": {},
   "outputs": [
    {
     "data": {
      "image/png": "[encoded data removed]",
      "text/plain": [
       "<Figure size 432x288 with 1 Axes>"
      ]
     },
     "metadata": {
      "needs_background": "light"
     },
     "output_type": "display_data"
    }
   ],
   "source": [
    "# sgd on u,v\n",
    "u = np.ravel(np.random.randn(n,1)*0.0001);\n",
    "v =np.ravel(np.random.randn(n,1)*0.0001);\n",
    "xinit = u*v;\n",
    "niter = 10000;\n",
    "Rindx = np.random.randint(m, size=niter)\n",
    "fvals_uv = np.ravel(np.zeros((niter,1)));\n",
    "\n",
    "myobj_uv = lambda u,v: lam/2*np.linalg.norm(u)**2+lam/2*np.linalg.norm(v)**2+1/2*np.linalg.norm(A@(u*v)-y)**2\n",
    "\n",
    "\n",
    "for j in range(niter):\n",
    "    gamma = 0.01/(1+j)**0.51\n",
    "    k = Rindx[j]\n",
    "    Ai = A[k,:]\n",
    "    w = m* np.ravel(Ai@(u*v) - y[k])*Ai.T\n",
    "    uold = u\n",
    "    u = u - gamma*v*w - lam*gamma*u\n",
    "    v = v - gamma*uold*w - lam*gamma*v\n",
    "    fvals_uv[j] = myobj(u*v);\n",
    "\n",
    "\n",
    "plt.stem(u*v)\n",
    "plt.show()\n",
    "\n"
   ]
  },
  {
   "cell_type": "code",
   "execution_count": 3,
   "metadata": {},
   "outputs": [
    {
     "data": {
      "text/plain": [
       "<StemContainer object of 3 artists>"
      ]
     },
     "execution_count": 3,
     "metadata": {},
     "output_type": "execute_result"
    },
    {
     "data": {
      "image/png": "[encoded data removed]",
      "text/plain": [
       "<Figure size 432x288 with 1 Axes>"
      ]
     },
     "metadata": {
      "needs_background": "light"
     },
     "output_type": "display_data"
    }
   ],
   "source": [
    "# proximal sgd\n",
    "ones = np.ones(n,)\n",
    "soft = lambda x,v: np.maximum(np.abs(x)-v*ones,0)*np.sign(x)\n",
    "Rindx = np.random.randint(m, size=niter)\n",
    "fvals_x = np.ravel(np.zeros((niter,1)));\n",
    "x = xinit\n",
    "for j in range(niter):\n",
    "    gamma = 0.001/(1+j)**0.51;\n",
    "    k = Rindx[j];\n",
    "    Ai = A[k,:];\n",
    "    w = m* np.ravel(Ai@x - y[k])*Ai.T;\n",
    "    x =  soft(x - gamma*w, lam*gamma) ;\n",
    "    fvals_x[j] = myobj(x);\n",
    "\n",
    "plt.stem(x)\n"
   ]
  },
  {
   "cell_type": "code",
   "execution_count": null,
   "metadata": {},
   "outputs": [],
   "source": []
  },
  {
   "cell_type": "code",
   "execution_count": 4,
   "metadata": {},
   "outputs": [
    {
     "data": {
      "image/png": "[encoded data removed]",
      "text/plain": [
       "<Figure size 432x288 with 1 Axes>"
      ]
     },
     "metadata": {
      "needs_background": "light"
     },
     "output_type": "display_data"
    }
   ],
   "source": [
    "plt.semilogy(range(niter), fvals_uv , 'r') # plotting t, a separately \n",
    "plt.semilogy(range(niter), fvals_x, 'b') # plotting t, b separately \n",
    "plt.show()"
   ]
  },
  {
   "cell_type": "code",
   "execution_count": 5,
   "metadata": {},
   "outputs": [
    {
     "data": {
      "text/plain": [
       "<StemContainer object of 3 artists>"
      ]
     },
     "execution_count": 5,
     "metadata": {},
     "output_type": "execute_result"
    },
    {
     "data": {
      "image/png": "[encoded data removed]",
      "text/plain": [
       "<Figure size 432x288 with 1 Axes>"
      ]
     },
     "metadata": {
      "needs_background": "light"
     },
     "output_type": "display_data"
    }
   ],
   "source": [
    "# RDA\n",
    "ones = np.ones(n,)\n",
    "soft = lambda x,v: np.maximum(np.abs(x)-v*ones,0)*np.sign(x)\n",
    "Rindx = np.random.randint(m, size=niter)\n",
    "fvals_rda = np.ravel(np.zeros((niter,1)));\n",
    "x = xinit\n",
    "gbar = np.zeros(n,)\n",
    "\n",
    "gamma = 1000\n",
    "rho = 0.001\n",
    "for j in range(niter):\n",
    "    k = Rindx[j]\n",
    "    Ai = A[k,:]\n",
    "    w = m* np.ravel(Ai@x - y[k])*Ai.T\n",
    "    gbar = (j)/(j+1)*gbar+1/(j+1)*w\n",
    "    lam_rda = lam + rho/np.sqrt(1+j)\n",
    "    x =  - np.sqrt(1+j)/gamma * soft(gbar, lam_rda) \n",
    "    fvals_rda[j] = myobj(x)\n",
    "\n",
    "plt.stem(x)\n",
    "\n"
   ]
  },
  {
   "cell_type": "code",
   "execution_count": null,
   "metadata": {},
   "outputs": [],
   "source": [
    "plt.semilogy(range(niter), fvals_uv , 'r') # plotting t, a separately \n",
    "plt.semilogy(range(niter), fvals_x, 'b') # plotting t, b separately \n",
    "plt.semilogy(range(niter), fvals_rda, 'g') # plotting t, b separately \n",
    "\n",
    "\n",
    "plt.show()\n"
   ]
  }
 ],
 "metadata": {
  "kernelspec": {
   "display_name": "Python 3",
   "language": "python",
   "name": "python3"
  },
  "language_info": {
   "codemirror_mode": {
    "name": "ipython",
    "version": 3
   },
   "file_extension": ".py",
   "mimetype": "text/x-python",
   "name": "python",
   "nbconvert_exporter": "python",
   "pygments_lexer": "ipython3",
   "version": "3.8.5"
  }
 },
 "nbformat": 4,
 "nbformat_minor": 4
}
